{
  "cells": [
    {
      "cell_type": "markdown",
      "metadata": {
        "colab_type": "text",
        "id": "view-in-github"
      },
      "source": [
        "<a href=\"https://colab.research.google.com/github/TurkuNLP/intro-to-nlp/blob/master/course_project_2023_template.ipynb\" target=\"_parent\"><img src=\"https://colab.research.google.com/assets/colab-badge.svg\" alt=\"Open In Colab\"/></a>"
      ]
    },
    {
      "cell_type": "markdown",
      "metadata": {
        "id": "ucyWlC5gbOyR"
      },
      "source": [
        "# Introduction to HLT Project (Template)\n",
        "\n",
        "- Student(s) Name(s):\n",
        "- Date:\n",
        "- Chosen Corpus:\n",
        "- Contributions (if group project):\n",
        "\n",
        "### Corpus information\n",
        "\n",
        "- Description of the chosen corpus:\n",
        "- Paper(s) and other published materials related to the corpus:\n",
        "- State-of-the-art performance (best published results) on this corpus:"
      ]
    },
    {
      "cell_type": "markdown",
      "metadata": {
        "id": "D5d-9uxrcDY-"
      },
      "source": [
        "---\n",
        "\n",
        "## 1. Setup"
      ]
    },
    {
      "cell_type": "code",
      "execution_count": 22,
      "metadata": {
        "id": "caHHQoqEcG1J"
      },
      "outputs": [],
      "source": [
        "# Your code to install and import libraries etc. here\n",
        "import datasets \n",
        "import numpy as np\n",
        "import matplotlib.pyplot as plt\n",
        "import pandas as pd\n",
        "from sklearn.feature_extraction.text import CountVectorizer\n",
        "import torch \n",
        "import transformers\n",
        "import evaluate"
      ]
    },
    {
      "cell_type": "markdown",
      "metadata": {
        "id": "ovUapilSb8iT"
      },
      "source": [
        "---\n",
        "\n",
        "## 2. Data download and preprocessing\n",
        "\n",
        "### 2.1. Download the corpus"
      ]
    },
    {
      "cell_type": "code",
      "execution_count": 11,
      "metadata": {
        "id": "PDx40YyzbGPc"
      },
      "outputs": [
        {
          "data": {
            "text/plain": [
              "DatasetDict({\n",
              "    train: Dataset({\n",
              "        features: ['text', 'label'],\n",
              "        num_rows: 25000\n",
              "    })\n",
              "    test: Dataset({\n",
              "        features: ['text', 'label'],\n",
              "        num_rows: 25000\n",
              "    })\n",
              "    unsupervised: Dataset({\n",
              "        features: ['text', 'label'],\n",
              "        num_rows: 50000\n",
              "    })\n",
              "})"
            ]
          },
          "metadata": {},
          "output_type": "display_data"
        }
      ],
      "source": [
        "# Your code to download the corpus here\n",
        "dset = datasets.load_dataset('imdb')\n",
        "display(dset)\n"
      ]
    },
    {
      "cell_type": "markdown",
      "metadata": {
        "id": "cXb7CQNCbZOI"
      },
      "source": [
        "### 2.2. Preprocessing"
      ]
    },
    {
      "cell_type": "code",
      "execution_count": 12,
      "metadata": {},
      "outputs": [],
      "source": [
        "# Your code for any necessary preprocessing here\n",
        "#Shuffle the dataset\n",
        "dset = dset.shuffle(seed=42)\n",
        "#Remove the unsupervised data part of the dataset as we dont need it for this task\n",
        "del dset['unsupervised']"
      ]
    },
    {
      "cell_type": "code",
      "execution_count": 13,
      "metadata": {
        "id": "RO5BXCuRbYKr"
      },
      "outputs": [
        {
          "name": "stderr",
          "output_type": "stream",
          "text": [
            "Map (num_proc=4): 100%|██████████| 25000/25000 [00:06<00:00, 4134.59 examples/s]\n",
            "Map (num_proc=4): 100%|██████████| 25000/25000 [00:06<00:00, 4093.63 examples/s]\n"
          ]
        }
      ],
      "source": [
        "vectorizer = CountVectorizer(binary=True, max_features=25000)\n",
        "text_list = [i['text'] for i in dset['train']]\n",
        "vectorizer.fit(text_list)\n",
        "\n",
        "def vectorize_example(examples, vectorizer): \n",
        "    vectorized = vectorizer.transform([examples[\"text\"]])\n",
        "    non_zero = vectorized.nonzero()[1]\n",
        "    non_zero += 1\n",
        "    return {'input_ids': non_zero}\n",
        "\n",
        "# Conversion vocabulary \n",
        "idx2word = {v: k for k, v in vectorizer.vocabulary_.items()}\n",
        "\n",
        "tokenized_data = dset.map(vectorize_example, num_proc=4, fn_kwargs={'vectorizer': vectorizer})"
      ]
    },
    {
      "cell_type": "code",
      "execution_count": 18,
      "metadata": {},
      "outputs": [
        {
          "name": "stdout",
          "output_type": "stream",
          "text": [
            "['above', 'action', 'actress', 'allah', 'americana', 'anders', 'area', 'argument', 'atari', 'beulah', 'bother', 'butch', 'bye', 'characterisation', 'clairvoyant', 'classical', 'compared', 'complicating', 'criminal', 'englishman', 'enjoyment', 'evaluated', 'factions', 'faraway', 'fur', 'goodbye', 'handbook', 'haven', 'howard', 'ifc', 'isaac', 'italian', 'judged', 'justice', 'languages', 'likeable', 'looming', 'maine', 'mayberry', 'moreau', 'noah', 'notable', 'onassis', 'oral', 'others', 'peoples', 'plotline', 'plotted', 'policeman', 'preferable', 'primed', 'quits', 'realm', 'relations', 'serio', 'similarity', 'simpler', 'spirited', 'spotlight', 'superficiality', 'suspected', 'thank', 'thatch', 'theater', 'thereafter', 'thick', 'things', 'thinker', 'tho', 'toad', 'took', 'violently', 'wayans', 'weak', 'weaken', 'weirdos', 'writings']\n"
          ]
        }
      ],
      "source": [
        "test_row = tokenized_data['train'][0]['input_ids']\n",
        "convered_text = [idx2word[i] for i in test_row]\n",
        "print(convered_text)"
      ]
    },
    {
      "cell_type": "code",
      "execution_count": 20,
      "metadata": {},
      "outputs": [],
      "source": [
        "def collator(examples):\n",
        "    batch = {\"labels\":torch.tensor(list(example[\"label\"] for example in examples))}\n",
        "    tensors = []\n",
        "    max_len = max(len(example[\"input_ids\"]) for example in examples)\n",
        "    for example in examples:\n",
        "        ids = torch.tensor(example[\"input_ids\"])\n",
        "        padded = torch.nn.functional.pad(ids, (0, max_len - ids.shape[0]))\n",
        "        tensors.append(padded)\n",
        "    batch[\"input_ids\"] = torch.vstack(tensors)\n",
        "    return batch"
      ]
    },
    {
      "cell_type": "markdown",
      "metadata": {
        "id": "F1ntHh_JbrAg"
      },
      "source": [
        "---\n",
        "\n",
        "## 3. Machine learning model\n",
        "\n",
        "### 3.1. Model training"
      ]
    },
    {
      "cell_type": "code",
      "execution_count": 23,
      "metadata": {
        "id": "Hs2Bf49zbn5C"
      },
      "outputs": [],
      "source": [
        "# Your code to train the machine learning model on the training set and evaluate the performance on the validation set here\n",
        "\n",
        "class MLPConfig(transformers.PretrainedConfig):\n",
        "    pass\n",
        "class MLP(transformers.PreTrainedModel):\n",
        "    config_class=MLPConfig\n",
        "    def __init__(self,config):\n",
        "        super().__init__(config)\n",
        "        self.vocab_size=config.vocab_size #embedding matrix row count\n",
        "        self.embedding=torch.nn.Embedding(num_embeddings=self.vocab_size+1,embedding_dim=config.hidden_size,padding_idx=0)\n",
        "        torch.nn.init.uniform_(self.embedding.weight.data,-0.001,0.001) \n",
        "        self.output=torch.nn.Linear(in_features=config.hidden_size,out_features=config.nlabels)\n",
        "\n",
        "    def forward(self,input_ids,labels=None):\n",
        "        embedded=self.embedding(input_ids)\n",
        "        embedded_summed=torch.sum(embedded,dim=1)\n",
        "        projected=torch.tanh(embedded_summed) \n",
        "        logits=self.output(projected)\n",
        "        if labels is not None:\n",
        "            loss=torch.nn.CrossEntropyLoss()\n",
        "            return (loss(logits,labels),logits)\n",
        "        else:\n",
        "            return (logits,)"
      ]
    },
    {
      "cell_type": "markdown",
      "metadata": {
        "id": "nlO8RVuHcmAh"
      },
      "source": [
        "### 3.2 Hyperparameter optimization"
      ]
    },
    {
      "cell_type": "code",
      "execution_count": 24,
      "metadata": {
        "id": "IzDrTDd0cWOG"
      },
      "outputs": [
        {
          "name": "stderr",
          "output_type": "stream",
          "text": [
            "C:\\Users\\omarn\\AppData\\Local\\Packages\\PythonSoftwareFoundation.Python.3.9_qbz5n2kfra8p0\\LocalCache\\local-packages\\Python39\\site-packages\\accelerate\\accelerator.py:432: FutureWarning: Passing the following arguments to `Accelerator` is deprecated and will be removed in version 1.0 of Accelerate: dict_keys(['dispatch_batches', 'split_batches', 'even_batches', 'use_seedable_sampler']). Please pass an `accelerate.DataLoaderConfiguration` instead: \n",
            "dataloader_config = DataLoaderConfiguration(dispatch_batches=None, split_batches=False, even_batches=True, use_seedable_sampler=True)\n",
            "  warnings.warn(\n",
            "  2%|▎         | 500/20000 [00:08<05:28, 59.28it/s]"
          ]
        },
        {
          "name": "stdout",
          "output_type": "stream",
          "text": [
            "{'loss': 0.6663, 'grad_norm': 0.6451306343078613, 'learning_rate': 9.75e-06, 'epoch': 2.55}\n"
          ]
        },
        {
          "name": "stderr",
          "output_type": "stream",
          "text": [
            "\n",
            "  3%|▎         | 508/20000 [00:09<14:13, 22.83it/s]"
          ]
        },
        {
          "name": "stdout",
          "output_type": "stream",
          "text": [
            "{'eval_loss': 0.6431292295455933, 'eval_accuracy': 0.762, 'eval_runtime': 0.8556, 'eval_samples_per_second': 5843.516, 'eval_steps_per_second': 730.44, 'epoch': 2.55}\n"
          ]
        },
        {
          "name": "stderr",
          "output_type": "stream",
          "text": [
            "  5%|▌         | 1000/20000 [00:16<05:00, 63.21it/s]"
          ]
        },
        {
          "name": "stdout",
          "output_type": "stream",
          "text": [
            "{'loss': 0.6113, 'grad_norm': 0.49040278792381287, 'learning_rate': 9.5e-06, 'epoch': 5.1}\n"
          ]
        },
        {
          "name": "stderr",
          "output_type": "stream",
          "text": [
            "                                                    \n",
            "  5%|▌         | 1006/20000 [00:17<16:14, 19.50it/s]"
          ]
        },
        {
          "name": "stdout",
          "output_type": "stream",
          "text": [
            "{'eval_loss': 0.5980353355407715, 'eval_accuracy': 0.8078, 'eval_runtime': 0.8072, 'eval_samples_per_second': 6194.386, 'eval_steps_per_second': 774.298, 'epoch': 5.1}\n"
          ]
        },
        {
          "name": "stderr",
          "output_type": "stream",
          "text": [
            "  8%|▊         | 1500/20000 [00:25<04:56, 62.30it/s]"
          ]
        },
        {
          "name": "stdout",
          "output_type": "stream",
          "text": [
            "{'loss': 0.5632, 'grad_norm': 0.5152321457862854, 'learning_rate': 9.250000000000001e-06, 'epoch': 7.65}\n"
          ]
        },
        {
          "name": "stderr",
          "output_type": "stream",
          "text": [
            "                                                    \n",
            "  8%|▊         | 1507/20000 [00:26<15:50, 19.45it/s]"
          ]
        },
        {
          "name": "stdout",
          "output_type": "stream",
          "text": [
            "{'eval_loss': 0.5588062405586243, 'eval_accuracy': 0.8246, 'eval_runtime': 0.8021, 'eval_samples_per_second': 6233.971, 'eval_steps_per_second': 779.246, 'epoch': 7.65}\n"
          ]
        },
        {
          "name": "stderr",
          "output_type": "stream",
          "text": [
            " 10%|█         | 2000/20000 [00:34<04:42, 63.64it/s]"
          ]
        },
        {
          "name": "stdout",
          "output_type": "stream",
          "text": [
            "{'loss': 0.5217, 'grad_norm': 0.4457358121871948, 'learning_rate': 9e-06, 'epoch': 10.2}\n"
          ]
        },
        {
          "name": "stderr",
          "output_type": "stream",
          "text": [
            "                                                    \n",
            " 10%|█         | 2010/20000 [00:35<12:17, 24.38it/s]"
          ]
        },
        {
          "name": "stdout",
          "output_type": "stream",
          "text": [
            "{'eval_loss': 0.5255573987960815, 'eval_accuracy': 0.835, 'eval_runtime': 0.8352, 'eval_samples_per_second': 5986.301, 'eval_steps_per_second': 748.288, 'epoch': 10.2}\n"
          ]
        },
        {
          "name": "stderr",
          "output_type": "stream",
          "text": [
            " 12%|█▎        | 2500/20000 [00:42<04:32, 64.23it/s]"
          ]
        },
        {
          "name": "stdout",
          "output_type": "stream",
          "text": [
            "{'loss': 0.4858, 'grad_norm': 0.5143020749092102, 'learning_rate': 8.750000000000001e-06, 'epoch': 12.76}\n"
          ]
        },
        {
          "name": "stderr",
          "output_type": "stream",
          "text": [
            "                                                    \n",
            " 13%|█▎        | 2510/20000 [00:43<12:09, 23.98it/s]"
          ]
        },
        {
          "name": "stdout",
          "output_type": "stream",
          "text": [
            "{'eval_loss': 0.4970256984233856, 'eval_accuracy': 0.8402, 'eval_runtime': 0.8416, 'eval_samples_per_second': 5941.366, 'eval_steps_per_second': 742.671, 'epoch': 12.76}\n"
          ]
        },
        {
          "name": "stderr",
          "output_type": "stream",
          "text": [
            " 15%|█▌        | 3000/20000 [00:51<04:46, 59.40it/s]"
          ]
        },
        {
          "name": "stdout",
          "output_type": "stream",
          "text": [
            "{'loss': 0.4546, 'grad_norm': 0.46808943152427673, 'learning_rate': 8.5e-06, 'epoch': 15.31}\n"
          ]
        },
        {
          "name": "stderr",
          "output_type": "stream",
          "text": [
            "                                                    \n",
            " 15%|█▌        | 3011/20000 [00:52<13:53, 20.39it/s]"
          ]
        },
        {
          "name": "stdout",
          "output_type": "stream",
          "text": [
            "{'eval_loss': 0.4724537134170532, 'eval_accuracy': 0.8472, 'eval_runtime': 0.947, 'eval_samples_per_second': 5279.778, 'eval_steps_per_second': 659.972, 'epoch': 15.31}\n"
          ]
        },
        {
          "name": "stderr",
          "output_type": "stream",
          "text": [
            " 18%|█▊        | 3500/20000 [01:00<04:16, 64.41it/s]"
          ]
        },
        {
          "name": "stdout",
          "output_type": "stream",
          "text": [
            "{'loss': 0.4286, 'grad_norm': 0.4440845847129822, 'learning_rate': 8.25e-06, 'epoch': 17.86}\n"
          ]
        },
        {
          "name": "stderr",
          "output_type": "stream",
          "text": [
            "                                                    \n",
            " 18%|█▊        | 3506/20000 [01:01<14:09, 19.41it/s]"
          ]
        },
        {
          "name": "stdout",
          "output_type": "stream",
          "text": [
            "{'eval_loss': 0.45170971751213074, 'eval_accuracy': 0.8506, 'eval_runtime': 0.819, 'eval_samples_per_second': 6104.752, 'eval_steps_per_second': 763.094, 'epoch': 17.86}\n"
          ]
        },
        {
          "name": "stderr",
          "output_type": "stream",
          "text": [
            " 20%|██        | 4000/20000 [01:09<04:00, 66.43it/s]"
          ]
        },
        {
          "name": "stdout",
          "output_type": "stream",
          "text": [
            "{'loss': 0.4058, 'grad_norm': 0.42311277985572815, 'learning_rate': 8.000000000000001e-06, 'epoch': 20.41}\n"
          ]
        },
        {
          "name": "stderr",
          "output_type": "stream",
          "text": [
            "                                                    \n",
            " 20%|██        | 4005/20000 [01:10<13:31, 19.71it/s]"
          ]
        },
        {
          "name": "stdout",
          "output_type": "stream",
          "text": [
            "{'eval_loss': 0.4336338937282562, 'eval_accuracy': 0.8532, 'eval_runtime': 0.8096, 'eval_samples_per_second': 6175.794, 'eval_steps_per_second': 771.974, 'epoch': 20.41}\n"
          ]
        },
        {
          "name": "stderr",
          "output_type": "stream",
          "text": [
            " 22%|██▎       | 4500/20000 [01:18<04:13, 61.20it/s]"
          ]
        },
        {
          "name": "stdout",
          "output_type": "stream",
          "text": [
            "{'loss': 0.3853, 'grad_norm': 0.4174938499927521, 'learning_rate': 7.75e-06, 'epoch': 22.96}\n"
          ]
        },
        {
          "name": "stderr",
          "output_type": "stream",
          "text": [
            "                                                    \n",
            " 23%|██▎       | 4509/20000 [01:19<10:41, 24.15it/s]"
          ]
        },
        {
          "name": "stdout",
          "output_type": "stream",
          "text": [
            "{'eval_loss': 0.4179871082305908, 'eval_accuracy': 0.8568, 'eval_runtime': 0.8558, 'eval_samples_per_second': 5842.411, 'eval_steps_per_second': 730.301, 'epoch': 22.96}\n"
          ]
        },
        {
          "name": "stderr",
          "output_type": "stream",
          "text": [
            " 25%|██▌       | 5000/20000 [01:27<04:25, 56.47it/s]"
          ]
        },
        {
          "name": "stdout",
          "output_type": "stream",
          "text": [
            "{'loss': 0.3673, 'grad_norm': 0.40321213006973267, 'learning_rate': 7.500000000000001e-06, 'epoch': 25.51}\n"
          ]
        },
        {
          "name": "stderr",
          "output_type": "stream",
          "text": [
            "                                                    \n",
            " 25%|██▌       | 5009/20000 [01:28<11:05, 22.52it/s]"
          ]
        },
        {
          "name": "stdout",
          "output_type": "stream",
          "text": [
            "{'eval_loss': 0.40429040789604187, 'eval_accuracy': 0.8588, 'eval_runtime': 0.8083, 'eval_samples_per_second': 6185.815, 'eval_steps_per_second': 773.227, 'epoch': 25.51}\n"
          ]
        },
        {
          "name": "stderr",
          "output_type": "stream",
          "text": [
            " 28%|██▊       | 5500/20000 [01:36<04:07, 58.50it/s]"
          ]
        },
        {
          "name": "stdout",
          "output_type": "stream",
          "text": [
            "{'loss': 0.3525, 'grad_norm': 0.4166144132614136, 'learning_rate': 7.25e-06, 'epoch': 28.06}\n"
          ]
        },
        {
          "name": "stderr",
          "output_type": "stream",
          "text": [
            "                                                    \n",
            " 28%|██▊       | 5510/20000 [01:37<11:25, 21.15it/s]"
          ]
        },
        {
          "name": "stdout",
          "output_type": "stream",
          "text": [
            "{'eval_loss': 0.3923192024230957, 'eval_accuracy': 0.8608, 'eval_runtime': 0.9353, 'eval_samples_per_second': 5345.906, 'eval_steps_per_second': 668.238, 'epoch': 28.06}\n"
          ]
        },
        {
          "name": "stderr",
          "output_type": "stream",
          "text": [
            " 30%|███       | 6000/20000 [01:45<03:37, 64.23it/s]"
          ]
        },
        {
          "name": "stdout",
          "output_type": "stream",
          "text": [
            "{'loss': 0.3379, 'grad_norm': 0.5610472559928894, 'learning_rate': 7e-06, 'epoch': 30.61}\n"
          ]
        },
        {
          "name": "stderr",
          "output_type": "stream",
          "text": [
            "                                                    \n",
            " 30%|███       | 6005/20000 [01:46<12:56, 18.02it/s]"
          ]
        },
        {
          "name": "stdout",
          "output_type": "stream",
          "text": [
            "{'eval_loss': 0.38174641132354736, 'eval_accuracy': 0.8636, 'eval_runtime': 0.8934, 'eval_samples_per_second': 5596.847, 'eval_steps_per_second': 699.606, 'epoch': 30.61}\n"
          ]
        },
        {
          "name": "stderr",
          "output_type": "stream",
          "text": [
            " 32%|███▎      | 6500/20000 [01:54<03:38, 61.86it/s]"
          ]
        },
        {
          "name": "stdout",
          "output_type": "stream",
          "text": [
            "{'loss': 0.3262, 'grad_norm': 0.4215192496776581, 'learning_rate': 6.750000000000001e-06, 'epoch': 33.16}\n"
          ]
        },
        {
          "name": "stderr",
          "output_type": "stream",
          "text": [
            "                                                    \n",
            " 33%|███▎      | 6506/20000 [01:55<12:23, 18.15it/s]"
          ]
        },
        {
          "name": "stdout",
          "output_type": "stream",
          "text": [
            "{'eval_loss': 0.37255215644836426, 'eval_accuracy': 0.866, 'eval_runtime': 0.8666, 'eval_samples_per_second': 5769.589, 'eval_steps_per_second': 721.199, 'epoch': 33.16}\n"
          ]
        },
        {
          "name": "stderr",
          "output_type": "stream",
          "text": [
            " 35%|███▌      | 7000/20000 [02:03<03:34, 60.52it/s]"
          ]
        },
        {
          "name": "stdout",
          "output_type": "stream",
          "text": [
            "{'loss': 0.3145, 'grad_norm': 0.485082745552063, 'learning_rate': 6.5000000000000004e-06, 'epoch': 35.71}\n"
          ]
        },
        {
          "name": "stderr",
          "output_type": "stream",
          "text": [
            "                                                    \n",
            " 35%|███▌      | 7011/20000 [02:04<09:30, 22.76it/s]"
          ]
        },
        {
          "name": "stdout",
          "output_type": "stream",
          "text": [
            "{'eval_loss': 0.3641456663608551, 'eval_accuracy': 0.8674, 'eval_runtime': 0.8777, 'eval_samples_per_second': 5696.583, 'eval_steps_per_second': 712.073, 'epoch': 35.71}\n"
          ]
        },
        {
          "name": "stderr",
          "output_type": "stream",
          "text": [
            " 38%|███▊      | 7500/20000 [02:12<03:15, 64.08it/s]"
          ]
        },
        {
          "name": "stdout",
          "output_type": "stream",
          "text": [
            "{'loss': 0.305, 'grad_norm': 0.4145914614200592, 'learning_rate': 6.25e-06, 'epoch': 38.27}\n"
          ]
        },
        {
          "name": "stderr",
          "output_type": "stream",
          "text": [
            "                                                    \n",
            " 38%|███▊      | 7506/20000 [02:13<10:30, 19.81it/s]"
          ]
        },
        {
          "name": "stdout",
          "output_type": "stream",
          "text": [
            "{'eval_loss': 0.35685399174690247, 'eval_accuracy': 0.8694, 'eval_runtime': 0.793, 'eval_samples_per_second': 6305.44, 'eval_steps_per_second': 788.18, 'epoch': 38.27}\n"
          ]
        },
        {
          "name": "stderr",
          "output_type": "stream",
          "text": [
            " 40%|████      | 8000/20000 [02:20<03:01, 66.13it/s]"
          ]
        },
        {
          "name": "stdout",
          "output_type": "stream",
          "text": [
            "{'loss': 0.2954, 'grad_norm': 0.4086167514324188, 'learning_rate': 6e-06, 'epoch': 40.82}\n"
          ]
        },
        {
          "name": "stderr",
          "output_type": "stream",
          "text": [
            "                                                    \n",
            " 40%|████      | 8009/20000 [02:21<07:51, 25.43it/s]"
          ]
        },
        {
          "name": "stdout",
          "output_type": "stream",
          "text": [
            "{'eval_loss': 0.3505323827266693, 'eval_accuracy': 0.87, 'eval_runtime': 0.8045, 'eval_samples_per_second': 6214.964, 'eval_steps_per_second': 776.871, 'epoch': 40.82}\n"
          ]
        },
        {
          "name": "stderr",
          "output_type": "stream",
          "text": [
            " 42%|████▎     | 8500/20000 [02:29<02:55, 65.63it/s]"
          ]
        },
        {
          "name": "stdout",
          "output_type": "stream",
          "text": [
            "{'loss': 0.288, 'grad_norm': 0.3813932538032532, 'learning_rate': 5.75e-06, 'epoch': 43.37}\n"
          ]
        },
        {
          "name": "stderr",
          "output_type": "stream",
          "text": [
            "                                                    \n",
            " 43%|████▎     | 8506/20000 [02:30<09:30, 20.16it/s]"
          ]
        },
        {
          "name": "stdout",
          "output_type": "stream",
          "text": [
            "{'eval_loss': 0.34470951557159424, 'eval_accuracy': 0.87, 'eval_runtime': 0.8078, 'eval_samples_per_second': 6189.724, 'eval_steps_per_second': 773.715, 'epoch': 43.37}\n"
          ]
        },
        {
          "name": "stderr",
          "output_type": "stream",
          "text": [
            " 45%|████▌     | 9000/20000 [02:37<02:53, 63.40it/s]"
          ]
        },
        {
          "name": "stdout",
          "output_type": "stream",
          "text": [
            "{'loss': 0.2789, 'grad_norm': 0.3590758144855499, 'learning_rate': 5.500000000000001e-06, 'epoch': 45.92}\n"
          ]
        },
        {
          "name": "stderr",
          "output_type": "stream",
          "text": [
            "                                                    \n",
            " 45%|████▌     | 9005/20000 [02:38<09:12, 19.88it/s]"
          ]
        },
        {
          "name": "stdout",
          "output_type": "stream",
          "text": [
            "{'eval_loss': 0.3396010100841522, 'eval_accuracy': 0.8712, 'eval_runtime': 0.7955, 'eval_samples_per_second': 6285.53, 'eval_steps_per_second': 785.691, 'epoch': 45.92}\n"
          ]
        },
        {
          "name": "stderr",
          "output_type": "stream",
          "text": [
            " 48%|████▊     | 9500/20000 [02:46<02:38, 66.39it/s]"
          ]
        },
        {
          "name": "stdout",
          "output_type": "stream",
          "text": [
            "{'loss': 0.2735, 'grad_norm': 0.4139081835746765, 'learning_rate': 5.2500000000000006e-06, 'epoch': 48.47}\n"
          ]
        },
        {
          "name": "stderr",
          "output_type": "stream",
          "text": [
            "                                                    \n",
            " 48%|████▊     | 9510/20000 [02:47<06:40, 26.20it/s]"
          ]
        },
        {
          "name": "stdout",
          "output_type": "stream",
          "text": [
            "{'eval_loss': 0.334972083568573, 'eval_accuracy': 0.8724, 'eval_runtime': 0.7984, 'eval_samples_per_second': 6262.834, 'eval_steps_per_second': 782.854, 'epoch': 48.47}\n"
          ]
        },
        {
          "name": "stderr",
          "output_type": "stream",
          "text": [
            " 50%|█████     | 10000/20000 [02:55<02:36, 63.75it/s]"
          ]
        },
        {
          "name": "stdout",
          "output_type": "stream",
          "text": [
            "{'loss': 0.2665, 'grad_norm': 0.3797486126422882, 'learning_rate': 5e-06, 'epoch': 51.02}\n"
          ]
        },
        {
          "name": "stderr",
          "output_type": "stream",
          "text": [
            "                                                     \n",
            " 50%|█████     | 10007/20000 [02:55<08:22, 19.89it/s]"
          ]
        },
        {
          "name": "stdout",
          "output_type": "stream",
          "text": [
            "{'eval_loss': 0.3309451639652252, 'eval_accuracy': 0.8726, 'eval_runtime': 0.7964, 'eval_samples_per_second': 6278.556, 'eval_steps_per_second': 784.82, 'epoch': 51.02}\n"
          ]
        },
        {
          "name": "stderr",
          "output_type": "stream",
          "text": [
            " 52%|█████▎    | 10500/20000 [03:03<02:31, 62.88it/s]"
          ]
        },
        {
          "name": "stdout",
          "output_type": "stream",
          "text": [
            "{'loss': 0.2611, 'grad_norm': 0.4067634344100952, 'learning_rate': 4.75e-06, 'epoch': 53.57}\n"
          ]
        },
        {
          "name": "stderr",
          "output_type": "stream",
          "text": [
            "                                                     \n",
            " 53%|█████▎    | 10510/20000 [03:04<06:17, 25.12it/s]"
          ]
        },
        {
          "name": "stdout",
          "output_type": "stream",
          "text": [
            "{'eval_loss': 0.32723990082740784, 'eval_accuracy': 0.8732, 'eval_runtime': 0.7934, 'eval_samples_per_second': 6301.741, 'eval_steps_per_second': 787.718, 'epoch': 53.57}\n"
          ]
        },
        {
          "name": "stderr",
          "output_type": "stream",
          "text": [
            " 55%|█████▌    | 11000/20000 [03:12<02:20, 63.93it/s]"
          ]
        },
        {
          "name": "stdout",
          "output_type": "stream",
          "text": [
            "{'loss': 0.2562, 'grad_norm': 0.3543435037136078, 'learning_rate': 4.5e-06, 'epoch': 56.12}\n"
          ]
        },
        {
          "name": "stderr",
          "output_type": "stream",
          "text": [
            "                                                     \n",
            " 55%|█████▌    | 11007/20000 [03:13<07:14, 20.68it/s]"
          ]
        },
        {
          "name": "stdout",
          "output_type": "stream",
          "text": [
            "{'eval_loss': 0.3239773213863373, 'eval_accuracy': 0.8738, 'eval_runtime': 0.7781, 'eval_samples_per_second': 6425.901, 'eval_steps_per_second': 803.238, 'epoch': 56.12}\n"
          ]
        },
        {
          "name": "stderr",
          "output_type": "stream",
          "text": [
            " 57%|█████▊    | 11500/20000 [03:20<02:10, 65.23it/s]"
          ]
        },
        {
          "name": "stdout",
          "output_type": "stream",
          "text": [
            "{'loss': 0.2509, 'grad_norm': 0.3678228557109833, 'learning_rate': 4.25e-06, 'epoch': 58.67}\n"
          ]
        },
        {
          "name": "stderr",
          "output_type": "stream",
          "text": [
            "                                                     \n",
            " 58%|█████▊    | 11505/20000 [03:21<07:05, 19.96it/s]"
          ]
        },
        {
          "name": "stdout",
          "output_type": "stream",
          "text": [
            "{'eval_loss': 0.32110145688056946, 'eval_accuracy': 0.8754, 'eval_runtime': 0.7928, 'eval_samples_per_second': 6306.993, 'eval_steps_per_second': 788.374, 'epoch': 58.67}\n"
          ]
        },
        {
          "name": "stderr",
          "output_type": "stream",
          "text": [
            " 60%|██████    | 12000/20000 [03:29<02:01, 65.86it/s]"
          ]
        },
        {
          "name": "stdout",
          "output_type": "stream",
          "text": [
            "{'loss': 0.2473, 'grad_norm': 0.49710121750831604, 'learning_rate': 4.000000000000001e-06, 'epoch': 61.22}\n"
          ]
        },
        {
          "name": "stderr",
          "output_type": "stream",
          "text": [
            "                                                     \n",
            " 60%|██████    | 12012/20000 [03:30<05:18, 25.09it/s]"
          ]
        },
        {
          "name": "stdout",
          "output_type": "stream",
          "text": [
            "{'eval_loss': 0.31844618916511536, 'eval_accuracy': 0.8754, 'eval_runtime': 0.8052, 'eval_samples_per_second': 6209.337, 'eval_steps_per_second': 776.167, 'epoch': 61.22}\n"
          ]
        },
        {
          "name": "stderr",
          "output_type": "stream",
          "text": [
            " 62%|██████▎   | 12500/20000 [03:37<01:52, 66.60it/s]"
          ]
        },
        {
          "name": "stdout",
          "output_type": "stream",
          "text": [
            "{'loss': 0.2427, 'grad_norm': 0.36851271986961365, 'learning_rate': 3.7500000000000005e-06, 'epoch': 63.78}\n"
          ]
        },
        {
          "name": "stderr",
          "output_type": "stream",
          "text": [
            "                                                     \n",
            " 63%|██████▎   | 12511/20000 [03:38<04:40, 26.67it/s]"
          ]
        },
        {
          "name": "stdout",
          "output_type": "stream",
          "text": [
            "{'eval_loss': 0.3160717189311981, 'eval_accuracy': 0.8766, 'eval_runtime': 0.7848, 'eval_samples_per_second': 6371.005, 'eval_steps_per_second': 796.376, 'epoch': 63.78}\n"
          ]
        },
        {
          "name": "stderr",
          "output_type": "stream",
          "text": [
            " 65%|██████▌   | 13000/20000 [03:46<01:47, 65.14it/s]"
          ]
        },
        {
          "name": "stdout",
          "output_type": "stream",
          "text": [
            "{'loss': 0.2394, 'grad_norm': 0.4376172721385956, 'learning_rate': 3.5e-06, 'epoch': 66.33}\n"
          ]
        },
        {
          "name": "stderr",
          "output_type": "stream",
          "text": [
            "                                                     \n",
            " 65%|██████▌   | 13005/20000 [03:47<05:48, 20.05it/s]"
          ]
        },
        {
          "name": "stdout",
          "output_type": "stream",
          "text": [
            "{'eval_loss': 0.31387367844581604, 'eval_accuracy': 0.8782, 'eval_runtime': 0.8015, 'eval_samples_per_second': 6238.006, 'eval_steps_per_second': 779.751, 'epoch': 66.33}\n"
          ]
        },
        {
          "name": "stderr",
          "output_type": "stream",
          "text": [
            " 68%|██████▊   | 13500/20000 [03:54<01:42, 63.54it/s]"
          ]
        },
        {
          "name": "stdout",
          "output_type": "stream",
          "text": [
            "{'loss': 0.2366, 'grad_norm': 0.32693105936050415, 'learning_rate': 3.2500000000000002e-06, 'epoch': 68.88}\n"
          ]
        },
        {
          "name": "stderr",
          "output_type": "stream",
          "text": [
            "                                                     \n",
            " 68%|██████▊   | 13508/20000 [03:55<04:11, 25.77it/s]"
          ]
        },
        {
          "name": "stdout",
          "output_type": "stream",
          "text": [
            "{'eval_loss': 0.31212118268013, 'eval_accuracy': 0.8782, 'eval_runtime': 0.7696, 'eval_samples_per_second': 6496.975, 'eval_steps_per_second': 812.122, 'epoch': 68.88}\n"
          ]
        },
        {
          "name": "stderr",
          "output_type": "stream",
          "text": [
            " 70%|███████   | 14000/20000 [04:03<01:31, 65.89it/s]"
          ]
        },
        {
          "name": "stdout",
          "output_type": "stream",
          "text": [
            "{'loss': 0.2325, 'grad_norm': 0.5341466665267944, 'learning_rate': 3e-06, 'epoch': 71.43}\n"
          ]
        },
        {
          "name": "stderr",
          "output_type": "stream",
          "text": [
            "                                                     \n",
            " 70%|███████   | 14006/20000 [04:04<04:59, 20.01it/s]"
          ]
        },
        {
          "name": "stdout",
          "output_type": "stream",
          "text": [
            "{'eval_loss': 0.3103892505168915, 'eval_accuracy': 0.88, 'eval_runtime': 0.7954, 'eval_samples_per_second': 6285.877, 'eval_steps_per_second': 785.735, 'epoch': 71.43}\n"
          ]
        },
        {
          "name": "stderr",
          "output_type": "stream",
          "text": [
            " 72%|███████▎  | 14500/20000 [04:11<01:20, 67.99it/s]"
          ]
        },
        {
          "name": "stdout",
          "output_type": "stream",
          "text": [
            "{'loss': 0.2306, 'grad_norm': 0.5222039222717285, 'learning_rate': 2.7500000000000004e-06, 'epoch': 73.98}\n"
          ]
        },
        {
          "name": "stderr",
          "output_type": "stream",
          "text": [
            "                                                     \n",
            " 73%|███████▎  | 14510/20000 [04:12<03:36, 25.36it/s]"
          ]
        },
        {
          "name": "stdout",
          "output_type": "stream",
          "text": [
            "{'eval_loss': 0.308851957321167, 'eval_accuracy': 0.8802, 'eval_runtime': 0.8058, 'eval_samples_per_second': 6204.711, 'eval_steps_per_second': 775.589, 'epoch': 73.98}\n"
          ]
        },
        {
          "name": "stderr",
          "output_type": "stream",
          "text": [
            " 75%|███████▌  | 15000/20000 [04:20<01:15, 66.05it/s]"
          ]
        },
        {
          "name": "stdout",
          "output_type": "stream",
          "text": [
            "{'loss': 0.2274, 'grad_norm': 0.40736937522888184, 'learning_rate': 2.5e-06, 'epoch': 76.53}\n"
          ]
        },
        {
          "name": "stderr",
          "output_type": "stream",
          "text": [
            "                                                     \n",
            " 75%|███████▌  | 15007/20000 [04:21<04:15, 19.51it/s]"
          ]
        },
        {
          "name": "stdout",
          "output_type": "stream",
          "text": [
            "{'eval_loss': 0.3075104057788849, 'eval_accuracy': 0.8802, 'eval_runtime': 0.8147, 'eval_samples_per_second': 6137.33, 'eval_steps_per_second': 767.166, 'epoch': 76.53}\n"
          ]
        },
        {
          "name": "stderr",
          "output_type": "stream",
          "text": [
            " 78%|███████▊  | 15500/20000 [04:28<01:05, 68.46it/s]"
          ]
        },
        {
          "name": "stdout",
          "output_type": "stream",
          "text": [
            "{'loss': 0.2264, 'grad_norm': 0.3898400366306305, 'learning_rate': 2.25e-06, 'epoch': 79.08}\n"
          ]
        },
        {
          "name": "stderr",
          "output_type": "stream",
          "text": [
            "                                                     \n",
            " 78%|███████▊  | 15511/20000 [04:29<02:56, 25.40it/s]"
          ]
        },
        {
          "name": "stdout",
          "output_type": "stream",
          "text": [
            "{'eval_loss': 0.30642005801200867, 'eval_accuracy': 0.8806, 'eval_runtime': 0.8191, 'eval_samples_per_second': 6104.578, 'eval_steps_per_second': 763.072, 'epoch': 79.08}\n"
          ]
        },
        {
          "name": "stderr",
          "output_type": "stream",
          "text": [
            " 80%|████████  | 16000/20000 [04:37<01:01, 65.26it/s]"
          ]
        },
        {
          "name": "stdout",
          "output_type": "stream",
          "text": [
            "{'loss': 0.2237, 'grad_norm': 0.4143665134906769, 'learning_rate': 2.0000000000000003e-06, 'epoch': 81.63}\n"
          ]
        },
        {
          "name": "stderr",
          "output_type": "stream",
          "text": [
            "                                                     \n",
            " 80%|████████  | 16012/20000 [04:38<02:32, 26.10it/s]"
          ]
        },
        {
          "name": "stdout",
          "output_type": "stream",
          "text": [
            "{'eval_loss': 0.3054101765155792, 'eval_accuracy': 0.8804, 'eval_runtime': 0.8041, 'eval_samples_per_second': 6218.001, 'eval_steps_per_second': 777.25, 'epoch': 81.63}\n"
          ]
        },
        {
          "name": "stderr",
          "output_type": "stream",
          "text": [
            " 82%|████████▎ | 16500/20000 [04:45<00:52, 67.22it/s]"
          ]
        },
        {
          "name": "stdout",
          "output_type": "stream",
          "text": [
            "{'loss': 0.2228, 'grad_norm': 0.3824039697647095, 'learning_rate': 1.75e-06, 'epoch': 84.18}\n"
          ]
        },
        {
          "name": "stderr",
          "output_type": "stream",
          "text": [
            "                                                     \n",
            " 83%|████████▎ | 16512/20000 [04:46<02:13, 26.14it/s]"
          ]
        },
        {
          "name": "stdout",
          "output_type": "stream",
          "text": [
            "{'eval_loss': 0.30453288555145264, 'eval_accuracy': 0.8806, 'eval_runtime': 0.8023, 'eval_samples_per_second': 6231.707, 'eval_steps_per_second': 778.963, 'epoch': 84.18}\n"
          ]
        },
        {
          "name": "stderr",
          "output_type": "stream",
          "text": [
            " 85%|████████▌ | 17000/20000 [04:54<00:49, 60.68it/s]"
          ]
        },
        {
          "name": "stdout",
          "output_type": "stream",
          "text": [
            "{'loss': 0.2202, 'grad_norm': 0.44040292501449585, 'learning_rate': 1.5e-06, 'epoch': 86.73}\n"
          ]
        },
        {
          "name": "stderr",
          "output_type": "stream",
          "text": [
            "                                                     \n",
            " 85%|████████▌ | 17009/20000 [04:55<02:04, 24.02it/s]"
          ]
        },
        {
          "name": "stdout",
          "output_type": "stream",
          "text": [
            "{'eval_loss': 0.3038578927516937, 'eval_accuracy': 0.8802, 'eval_runtime': 0.8451, 'eval_samples_per_second': 5916.238, 'eval_steps_per_second': 739.53, 'epoch': 86.73}\n"
          ]
        },
        {
          "name": "stderr",
          "output_type": "stream",
          "text": [
            " 88%|████████▊ | 17500/20000 [05:02<00:40, 62.09it/s]"
          ]
        },
        {
          "name": "stdout",
          "output_type": "stream",
          "text": [
            "{'loss': 0.2199, 'grad_norm': 0.3494792580604553, 'learning_rate': 1.25e-06, 'epoch': 89.29}\n"
          ]
        },
        {
          "name": "stderr",
          "output_type": "stream",
          "text": [
            "                                                     \n",
            " 88%|████████▊ | 17503/20000 [05:03<02:08, 19.46it/s]"
          ]
        },
        {
          "name": "stdout",
          "output_type": "stream",
          "text": [
            "{'eval_loss': 0.3031989336013794, 'eval_accuracy': 0.8806, 'eval_runtime': 0.8027, 'eval_samples_per_second': 6229.217, 'eval_steps_per_second': 778.652, 'epoch': 89.29}\n"
          ]
        },
        {
          "name": "stderr",
          "output_type": "stream",
          "text": [
            " 90%|█████████ | 18000/20000 [05:11<00:32, 61.69it/s]"
          ]
        },
        {
          "name": "stdout",
          "output_type": "stream",
          "text": [
            "{'loss': 0.218, 'grad_norm': 0.3691171705722809, 'learning_rate': 1.0000000000000002e-06, 'epoch': 91.84}\n"
          ]
        },
        {
          "name": "stderr",
          "output_type": "stream",
          "text": [
            "                                                     \n",
            " 90%|█████████ | 18009/20000 [05:12<01:23, 23.74it/s]"
          ]
        },
        {
          "name": "stdout",
          "output_type": "stream",
          "text": [
            "{'eval_loss': 0.3027598261833191, 'eval_accuracy': 0.8804, 'eval_runtime': 0.8316, 'eval_samples_per_second': 6012.501, 'eval_steps_per_second': 751.563, 'epoch': 91.84}\n"
          ]
        },
        {
          "name": "stderr",
          "output_type": "stream",
          "text": [
            " 92%|█████████▎| 18500/20000 [05:20<00:23, 65.03it/s]"
          ]
        },
        {
          "name": "stdout",
          "output_type": "stream",
          "text": [
            "{'loss': 0.218, 'grad_norm': 0.3601178824901581, 'learning_rate': 7.5e-07, 'epoch': 94.39}\n"
          ]
        },
        {
          "name": "stderr",
          "output_type": "stream",
          "text": [
            "                                                     \n",
            " 93%|█████████▎| 18507/20000 [05:21<01:00, 24.85it/s]"
          ]
        },
        {
          "name": "stdout",
          "output_type": "stream",
          "text": [
            "{'eval_loss': 0.3024196922779083, 'eval_accuracy': 0.8802, 'eval_runtime': 0.7555, 'eval_samples_per_second': 6618.434, 'eval_steps_per_second': 827.304, 'epoch': 94.39}\n"
          ]
        },
        {
          "name": "stderr",
          "output_type": "stream",
          "text": [
            " 95%|█████████▌| 19000/20000 [05:28<00:14, 68.01it/s]"
          ]
        },
        {
          "name": "stdout",
          "output_type": "stream",
          "text": [
            "{'loss': 0.2168, 'grad_norm': 0.34206077456474304, 'learning_rate': 5.000000000000001e-07, 'epoch': 96.94}\n"
          ]
        },
        {
          "name": "stderr",
          "output_type": "stream",
          "text": [
            "                                                     \n",
            " 95%|█████████▌| 19010/20000 [05:29<00:39, 24.83it/s]"
          ]
        },
        {
          "name": "stdout",
          "output_type": "stream",
          "text": [
            "{'eval_loss': 0.3021363914012909, 'eval_accuracy': 0.88, 'eval_runtime': 0.8228, 'eval_samples_per_second': 6076.532, 'eval_steps_per_second': 759.566, 'epoch': 96.94}\n"
          ]
        },
        {
          "name": "stderr",
          "output_type": "stream",
          "text": [
            " 98%|█████████▊| 19500/20000 [05:37<00:07, 64.03it/s]"
          ]
        },
        {
          "name": "stdout",
          "output_type": "stream",
          "text": [
            "{'loss': 0.2172, 'grad_norm': 0.48698970675468445, 'learning_rate': 2.5000000000000004e-07, 'epoch': 99.49}\n"
          ]
        },
        {
          "name": "stderr",
          "output_type": "stream",
          "text": [
            "                                                     \n",
            " 98%|█████████▊| 19510/20000 [05:38<00:19, 25.17it/s]"
          ]
        },
        {
          "name": "stdout",
          "output_type": "stream",
          "text": [
            "{'eval_loss': 0.3019624650478363, 'eval_accuracy': 0.88, 'eval_runtime': 0.7901, 'eval_samples_per_second': 6328.522, 'eval_steps_per_second': 791.065, 'epoch': 99.49}\n"
          ]
        },
        {
          "name": "stderr",
          "output_type": "stream",
          "text": [
            "100%|██████████| 20000/20000 [05:45<00:00, 65.01it/s]"
          ]
        },
        {
          "name": "stdout",
          "output_type": "stream",
          "text": [
            "{'loss': 0.2163, 'grad_norm': 0.36724454164505005, 'learning_rate': 0.0, 'epoch': 102.04}\n"
          ]
        },
        {
          "name": "stderr",
          "output_type": "stream",
          "text": [
            "                                                     \n",
            "100%|██████████| 20000/20000 [05:46<00:00, 57.69it/s]"
          ]
        },
        {
          "name": "stdout",
          "output_type": "stream",
          "text": [
            "{'eval_loss': 0.3019106090068817, 'eval_accuracy': 0.8802, 'eval_runtime': 0.8354, 'eval_samples_per_second': 5984.855, 'eval_steps_per_second': 748.107, 'epoch': 102.04}\n",
            "{'train_runtime': 346.6627, 'train_samples_per_second': 7384.701, 'train_steps_per_second': 57.693, 'train_loss': 0.31380066299438475, 'epoch': 102.04}\n"
          ]
        },
        {
          "name": "stderr",
          "output_type": "stream",
          "text": [
            "\n"
          ]
        },
        {
          "data": {
            "text/plain": [
              "TrainOutput(global_step=20000, training_loss=0.31380066299438475, metrics={'train_runtime': 346.6627, 'train_samples_per_second': 7384.701, 'train_steps_per_second': 57.693, 'train_loss': 0.31380066299438475, 'epoch': 102.04})"
            ]
          },
          "execution_count": 24,
          "metadata": {},
          "output_type": "execute_result"
        }
      ],
      "source": [
        "# Your code for hyperparameter optimization here\n",
        "\n",
        "mlp_config=MLPConfig(vocab_size=len(vectorizer.vocabulary_),hidden_size=20,nlabels=2)\n",
        "mlp=MLP(mlp_config)\n",
        "\n",
        "trainer_args = transformers.TrainingArguments(\n",
        "    \"mlp_checkpoints\", #save checkpoints here\n",
        "    evaluation_strategy=\"steps\",\n",
        "    logging_strategy=\"steps\",\n",
        "    eval_steps=500,\n",
        "    logging_steps=500,\n",
        "    learning_rate=1e-5, #learning rate of the gradient descent\n",
        "    max_steps=20000,\n",
        "    load_best_model_at_end=True,\n",
        "    per_device_train_batch_size=128\n",
        ")\n",
        "\n",
        "accuracy = evaluate.load(\"accuracy\")\n",
        "\n",
        "def compute_accuracy(outputs_and_labels):\n",
        "    outputs, labels = outputs_and_labels\n",
        "    predictions = np.argmax(outputs, axis=-1) #pick the index of the \"winning\" label\n",
        "    return accuracy.compute(predictions=predictions, references=labels)\n",
        "\n",
        "mlp = MLP(mlp_config)\n",
        "\n",
        "\n",
        "early_stopping = transformers.EarlyStoppingCallback(5)\n",
        "\n",
        "trainer = transformers.Trainer(\n",
        "    model=mlp,\n",
        "    args=trainer_args,\n",
        "    train_dataset=tokenized_data[\"train\"],\n",
        "    eval_dataset=tokenized_data[\"test\"].select(range(5000)), #make a smaller subset to evaluate on\n",
        "    compute_metrics=compute_accuracy,\n",
        "    data_collator=collator,\n",
        "    callbacks=[early_stopping]\n",
        ")\n",
        "\n",
        "trainer.train()"
      ]
    },
    {
      "cell_type": "code",
      "execution_count": 25,
      "metadata": {},
      "outputs": [],
      "source": [
        "#Save model \n",
        "#trainer.save_model(\"mlp_model\")"
      ]
    },
    {
      "cell_type": "markdown",
      "metadata": {
        "id": "1EzCYTnfcrvN"
      },
      "source": [
        "### 3.3. Evaluation on test set"
      ]
    },
    {
      "cell_type": "code",
      "execution_count": 29,
      "metadata": {
        "id": "BG7s-yr6crGF"
      },
      "outputs": [
        {
          "name": "stderr",
          "output_type": "stream",
          "text": [
            "100%|██████████| 625/625 [00:00<00:00, 768.58it/s]"
          ]
        },
        {
          "name": "stdout",
          "output_type": "stream",
          "text": [
            "Test accuracy: {'accuracy': 0.8802}\n"
          ]
        },
        {
          "name": "stderr",
          "output_type": "stream",
          "text": [
            "\n"
          ]
        }
      ],
      "source": [
        "# Your code to evaluate the final model on the test set here\n",
        "test_results = trainer.predict(tokenized_data[\"test\"].select(range(5000)))\n",
        "test_accuracy = compute_accuracy((test_results.predictions, test_results.label_ids))\n",
        "print(f\"Test accuracy: {test_accuracy}\")"
      ]
    },
    {
      "cell_type": "code",
      "execution_count": 42,
      "metadata": {},
      "outputs": [
        {
          "name": "stdout",
          "output_type": "stream",
          "text": [
            "Predictions: \n",
            " [[-1.4783843   1.2700074 ]\n",
            " [-0.16219756  0.06732692]\n",
            " [-0.01269698 -0.06483601]\n",
            " [-1.0602162   0.89951706]\n",
            " [ 0.37185746 -0.41186056]\n",
            " [-1.1537267   0.98373985]\n",
            " [ 0.09102534 -0.15580702]\n",
            " [ 1.1402507  -1.1289095 ]\n",
            " [ 0.29495418 -0.34836176]\n",
            " [-0.6786371   0.54820937]]\n",
            "Binary predicted labels: [1 1 0 1 0 1 0 0 0 1]\n",
            "True labels: [1 1 0 1 0 1 1 0 0 1]\n"
          ]
        }
      ],
      "source": [
        "#Convert the 10 first predictions to labels \n",
        "print(\"Predictions:\", \"\\n\", test_results.predictions[:10])\n",
        "print(\"Binary predicted labels:\", np.argmax(test_results.predictions[:10], axis=-1))\n",
        "\n",
        "\n",
        "#Print first 10 true labels\n",
        "true_labels = test_results.label_ids[:10]\n",
        "print(\"True labels:\", true_labels)\n"
      ]
    },
    {
      "cell_type": "markdown",
      "metadata": {
        "id": "x7ylOS8FdYZ5"
      },
      "source": [
        "---\n",
        "\n",
        "## 4. Results and summary\n",
        "\n",
        "### 4.1 Corpus insights\n",
        "\n",
        "(Briefly discuss what you learned about the corpus and its annotation)\n",
        "\n",
        "### 4.2 Results\n",
        "\n",
        "(Briefly summarize your results)\n",
        "\n",
        "### 4.3 Relation to state of the art\n",
        "\n",
        "(Compare your results to the state-of-the-art performance)\n",
        "\n",
        "---\n",
        "\n",
        "## 5. Bonus Task (optional)\n",
        "\n",
        "### 5.1. Annotating out-of-domain documents\n",
        "\n",
        "(Briefly describe the chosen out-of-domain documents)\n",
        "\n",
        "(Briefly describe the process of annotation)\n",
        "\n",
        "### 5.2 Conversion into dataset"
      ]
    },
    {
      "cell_type": "code",
      "execution_count": null,
      "metadata": {
        "id": "32DU04FndRdM"
      },
      "outputs": [],
      "source": [
        "# Your code to convert the annotations into a dataset here"
      ]
    },
    {
      "cell_type": "markdown",
      "metadata": {
        "id": "4ghO4JemeFKK"
      },
      "source": [
        "### 5.3. Model evaluation on out-of-domain test set"
      ]
    },
    {
      "cell_type": "code",
      "execution_count": null,
      "metadata": {
        "id": "9tzYWQ_zeCYp"
      },
      "outputs": [],
      "source": [
        "# Your code to evaluate the model on the out-of-domain test set here"
      ]
    },
    {
      "cell_type": "markdown",
      "metadata": {
        "id": "8XLZlItdePfJ"
      },
      "source": [
        "### 5.4 Bonus task results\n",
        "\n",
        "(Present the results of the evaluation on the out-of-domain test set)\n",
        "\n",
        "### 5.5. Annotated data"
      ]
    },
    {
      "cell_type": "code",
      "execution_count": null,
      "metadata": {
        "id": "L2YJsiIGeYRe"
      },
      "outputs": [],
      "source": [
        "# Include your annotated out-of-domain data here"
      ]
    }
  ],
  "metadata": {
    "colab": {
      "include_colab_link": true,
      "provenance": []
    },
    "kernelspec": {
      "display_name": "Python 3",
      "name": "python3"
    },
    "language_info": {
      "codemirror_mode": {
        "name": "ipython",
        "version": 3
      },
      "file_extension": ".py",
      "mimetype": "text/x-python",
      "name": "python",
      "nbconvert_exporter": "python",
      "pygments_lexer": "ipython3",
      "version": "3.9.13"
    }
  },
  "nbformat": 4,
  "nbformat_minor": 0
}
